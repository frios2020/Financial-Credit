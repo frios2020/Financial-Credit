{
  "nbformat": 4,
  "nbformat_minor": 0,
  "metadata": {
    "colab": {
      "name": "Project 1 Data Mining Summer 2020.ipynb",
      "provenance": [],
      "collapsed_sections": [],
      "toc_visible": true,
      "include_colab_link": true
    },
    "kernelspec": {
      "name": "python3",
      "display_name": "Python 3"
    },
    "accelerator": "GPU"
  },
  "cells": [
    {
      "cell_type": "markdown",
      "metadata": {
        "id": "view-in-github",
        "colab_type": "text"
      },
      "source": [
        "<a href=\"https://colab.research.google.com/github/frios2020/Financial-Credit/blob/master/Project_1_Data_Mining_Summer_2020.ipynb\" target=\"_parent\"><img src=\"https://colab.research.google.com/assets/colab-badge.svg\" alt=\"Open In Colab\"/></a>"
      ]
    },
    {
      "cell_type": "markdown",
      "metadata": {
        "id": "jDXd4o4rlkct",
        "colab_type": "text"
      },
      "source": [
        "# Question 1 : Tutorial on AIF360\n",
        "The AI Fairness is an open source toolkit for finding, understanding, and removing bias from a raw dataset. AIF360 was created to address fairness and bias in machine learning models. These toolkit is collection of many other contribution to bias detection and fairness. The power of this toolkit is that it assembles metrics of detecting bias, processes to mitigate it, and gives way to explain the results. \n",
        "<br>The AIF360 consists of four classes:</br>\n",
        "<br>-Dataset class</br>\n",
        "<br>-Metric class</br>\n",
        "<br>-Explainer class</br>\n",
        "<br>-Algorithm class</br>\n",
        "<br>In the dataset class, this part is the same as machine learning pipline. Training data is used for learning and test data is used to predictions and make comparisons. With the toolkit, protected attributes are associated with each record in dataset.</br>\n",
        "<br>Metric class is the class in which the group or individual fairnes metrics are computed for bias checking. Various bias dectecting methods can be implemeneted here such as Disparate impact, SPD, average odds difference, and ->equal opportunity difference.</br>\n",
        "<br>To get more reading on what metrics class gives, the toolkit comes with the explainer class. It consist of two jobs reports explanations on accuracy metric, and fine grained localization for identifying the where the bias is.</br>\n",
        "<br>Algorithm class is the class where AIF360 takes care of the bias and improve fairness. It consists of 3 steps:\n",
        "</br>\n",
        "<br>->Reweighing where weights are generated for training samples to ensure fairness. During preporcessing, optimizer learns a probabilitistic function that edits the freatures and labels in the data with group fairness, checking data fidelity, and individual misrepresentations. </br>\n",
        "<br>->Adversial debiasing step that maximizes predictions while reduces the difficulties associated with determining protected attribute from predictions. The process leads to a fair classifier with no group discrimination that the adversary can use. Prejudice remover adds a discrimination-aware regularization term to the learning objective </br>\n",
        "<br>->Equal odds post-processing step that solves a linear program to ﬁnd probabilities with which to change output labels to optimize equalized odds.  Calibrated equalized odds postprocessing optimizes over calibrated classiﬁer score outputs to ﬁnd probabilities with which to change output labels with an equalized odds objective.</br>\n",
        "<br>AIF360 comes also with web interactive experience. The back end servive is such that the capabilities of the toolkit are turned into a web service into the cloud. This helps consumers for ease of use without even programming experience.</br>\n"
      ]
    },
    {
      "cell_type": "markdown",
      "metadata": {
        "id": "BvgIZy1A2wpU",
        "colab_type": "text"
      },
      "source": [
        "# Question 2 Using Reweighing algorithm"
      ]
    },
    {
      "cell_type": "markdown",
      "metadata": {
        "id": "g90c6sbkh1B3",
        "colab_type": "text"
      },
      "source": [
        "## Installing Package"
      ]
    },
    {
      "cell_type": "code",
      "metadata": {
        "id": "z6IYwr8lJPvP",
        "colab_type": "code",
        "outputId": "7cd9cef4-fe6b-4c52-f6bb-6d1e43f95d4e",
        "colab": {
          "base_uri": "https://localhost:8080/",
          "height": 255
        }
      },
      "source": [
        "! pip install aif360"
      ],
      "execution_count": 37,
      "outputs": [
        {
          "output_type": "stream",
          "text": [
            "Requirement already satisfied: aif360 in /usr/local/lib/python3.6/dist-packages (0.3.0)\n",
            "Requirement already satisfied: pandas>=0.24.0 in /usr/local/lib/python3.6/dist-packages (from aif360) (1.0.4)\n",
            "Requirement already satisfied: scipy>=1.2.0 in /usr/local/lib/python3.6/dist-packages (from aif360) (1.4.1)\n",
            "Requirement already satisfied: numpy>=1.16 in /usr/local/lib/python3.6/dist-packages (from aif360) (1.18.5)\n",
            "Requirement already satisfied: matplotlib in /usr/local/lib/python3.6/dist-packages (from aif360) (3.2.1)\n",
            "Requirement already satisfied: scikit-learn>=0.21 in /usr/local/lib/python3.6/dist-packages (from aif360) (0.22.2.post1)\n",
            "Requirement already satisfied: pytz>=2017.2 in /usr/local/lib/python3.6/dist-packages (from pandas>=0.24.0->aif360) (2018.9)\n",
            "Requirement already satisfied: python-dateutil>=2.6.1 in /usr/local/lib/python3.6/dist-packages (from pandas>=0.24.0->aif360) (2.8.1)\n",
            "Requirement already satisfied: kiwisolver>=1.0.1 in /usr/local/lib/python3.6/dist-packages (from matplotlib->aif360) (1.2.0)\n",
            "Requirement already satisfied: cycler>=0.10 in /usr/local/lib/python3.6/dist-packages (from matplotlib->aif360) (0.10.0)\n",
            "Requirement already satisfied: pyparsing!=2.0.4,!=2.1.2,!=2.1.6,>=2.0.1 in /usr/local/lib/python3.6/dist-packages (from matplotlib->aif360) (2.4.7)\n",
            "Requirement already satisfied: joblib>=0.11 in /usr/local/lib/python3.6/dist-packages (from scikit-learn>=0.21->aif360) (0.15.1)\n",
            "Requirement already satisfied: six>=1.5 in /usr/local/lib/python3.6/dist-packages (from python-dateutil>=2.6.1->pandas>=0.24.0->aif360) (1.12.0)\n"
          ],
          "name": "stdout"
        }
      ]
    },
    {
      "cell_type": "code",
      "metadata": {
        "id": "x09g2IudjVXO",
        "colab_type": "code",
        "outputId": "5f1c7150-6d54-4303-aece-dd895688924f",
        "colab": {
          "base_uri": "https://localhost:8080/",
          "height": 202
        }
      },
      "source": [
        "#Load data file just in case it is missing \n",
        "!wget -O ../usr/local/lib/python3.6/dist-packages/aif360/data/raw/german/german.data https://archive.ics.uci.edu/ml/machine-learning-databases/statlog/german/german.data"
      ],
      "execution_count": 38,
      "outputs": [
        {
          "output_type": "stream",
          "text": [
            "--2020-06-13 21:51:36--  https://archive.ics.uci.edu/ml/machine-learning-databases/statlog/german/german.data\n",
            "Resolving archive.ics.uci.edu (archive.ics.uci.edu)... 128.195.10.252\n",
            "Connecting to archive.ics.uci.edu (archive.ics.uci.edu)|128.195.10.252|:443... connected.\n",
            "HTTP request sent, awaiting response... 200 OK\n",
            "Length: 79793 (78K) [application/x-httpd-php]\n",
            "Saving to: ‘../usr/local/lib/python3.6/dist-packages/aif360/data/raw/german/german.data’\n",
            "\n",
            "\r          ../usr/lo   0%[                    ]       0  --.-KB/s               \r../usr/local/lib/py 100%[===================>]  77.92K  --.-KB/s    in 0.06s   \n",
            "\n",
            "2020-06-13 21:51:36 (1.31 MB/s) - ‘../usr/local/lib/python3.6/dist-packages/aif360/data/raw/german/german.data’ saved [79793/79793]\n",
            "\n"
          ],
          "name": "stdout"
        }
      ]
    },
    {
      "cell_type": "markdown",
      "metadata": {
        "id": "7WNWpTdNiFok",
        "colab_type": "text"
      },
      "source": [
        "## Importing Statements"
      ]
    },
    {
      "cell_type": "code",
      "metadata": {
        "id": "7-l1iDSYgWAh",
        "colab_type": "code",
        "colab": {}
      },
      "source": [
        "import sys\n",
        "#sys.path.insert(1, \"../\")  \n",
        "import numpy as np\n",
        "np.random.seed(0)\n",
        "import pandas as pd\n",
        "import matplotlib.pyplot as plt\n",
        "import seaborn as sns\n",
        "from tqdm import tqdm\n",
        "\n",
        "from aif360.datasets import BinaryLabelDataset\n",
        "from aif360.datasets import GermanDataset\n",
        "from aif360.metrics import BinaryLabelDatasetMetric\n",
        "from aif360.metrics import ClassificationMetric\n",
        "from aif360.metrics.utils import compute_boolean_conditioning_vector\n",
        "from aif360.algorithms.preprocessing.optim_preproc import OptimPreproc\n",
        "from aif360.algorithms.preprocessing.optim_preproc_helpers.data_preproc_functions import load_preproc_data_german\n",
        "from aif360.algorithms.preprocessing.optim_preproc_helpers.distortion_functions import get_distortion_german\n",
        "from aif360.algorithms.preprocessing.optim_preproc_helpers.opt_tools import OptTools\n",
        "from aif360.algorithms.preprocessing.reweighing import Reweighing\n",
        "from aif360.algorithms.preprocessing import DisparateImpactRemover\n",
        "\n",
        "from sklearn.linear_model import LogisticRegression\n",
        "from sklearn.preprocessing import StandardScaler\n",
        "from sklearn.metrics import accuracy_score\n",
        "\n",
        "from IPython.display import Markdown, display\n",
        "import matplotlib.pyplot as plt\n",
        "# Explainers\n",
        "from aif360.explainers import MetricTextExplainer"
      ],
      "execution_count": 0,
      "outputs": []
    },
    {
      "cell_type": "markdown",
      "metadata": {
        "id": "lWPrJywXicnO",
        "colab_type": "text"
      },
      "source": [
        "## Loading dataset, and splitting train and test dataset"
      ]
    },
    {
      "cell_type": "code",
      "metadata": {
        "id": "A6yjiaREJKkA",
        "colab_type": "code",
        "colab": {}
      },
      "source": [
        "# This dataset also contains protected attribute for \"sex\" which we do not consider in this evaluation\n",
        "# age >=25 is considered privileged\n",
        "# ignore sex-related attributes\n",
        "dataset_orig = GermanDataset(protected_attribute_names=['age'],privileged_classes=[lambda x: x >= 25],features_to_drop=['personal_status', 'sex'] )   \n",
        "dataset_orig_train, dataset_orig_test = dataset_orig.split([0.7], shuffle=True)\n",
        "\n",
        "privileged_groups = [{'age': 1}]\n",
        "unprivileged_groups = [{'age': 0}]\n"
      ],
      "execution_count": 0,
      "outputs": []
    },
    {
      "cell_type": "markdown",
      "metadata": {
        "id": "bs57bpCijnCl",
        "colab_type": "text"
      },
      "source": [
        "## Train dataset"
      ]
    },
    {
      "cell_type": "code",
      "metadata": {
        "id": "QG-bMU5eKUUT",
        "colab_type": "code",
        "outputId": "d7ec960b-e1fb-455f-c7a3-210398d15e1f",
        "colab": {
          "base_uri": "https://localhost:8080/",
          "height": 74
        }
      },
      "source": [
        "## Step 3 Computing fairness metric on original training dataset\n",
        "metric_orig_train = BinaryLabelDatasetMetric(dataset_orig_train,unprivileged_groups=unprivileged_groups,privileged_groups=privileged_groups)\n",
        "display(Markdown(\"#### Original training dataset\"))\n",
        "print(\"Difference in mean outcomes between unprivileged and privileged groups = %f\" % metric_orig_train.mean_difference())"
      ],
      "execution_count": 41,
      "outputs": [
        {
          "output_type": "display_data",
          "data": {
            "text/markdown": "#### Original training dataset",
            "text/plain": [
              "<IPython.core.display.Markdown object>"
            ]
          },
          "metadata": {
            "tags": []
          }
        },
        {
          "output_type": "stream",
          "text": [
            "Difference in mean outcomes between unprivileged and privileged groups = -0.169905\n"
          ],
          "name": "stdout"
        }
      ]
    },
    {
      "cell_type": "code",
      "metadata": {
        "id": "ny15R1Rpl2BE",
        "colab_type": "code",
        "colab": {}
      },
      "source": [
        "# Step 4 Mitigating bias by transforming the original dataset\n",
        "RW = Reweighing(unprivileged_groups=unprivileged_groups,privileged_groups=privileged_groups)\n",
        "dataset_transf_train = RW.fit_transform(dataset_orig_train)"
      ],
      "execution_count": 0,
      "outputs": []
    },
    {
      "cell_type": "code",
      "metadata": {
        "id": "B2t-yP5vmprm",
        "colab_type": "code",
        "outputId": "ee40d07e-e6c6-426a-bc7a-4435e1cea7fa",
        "colab": {
          "base_uri": "https://localhost:8080/",
          "height": 74
        }
      },
      "source": [
        "## Step 5 Computing fairness metric on transformed dataset\n",
        "metric_transf_train = BinaryLabelDatasetMetric(dataset_transf_train,unprivileged_groups=unprivileged_groups,privileged_groups=privileged_groups)\n",
        "display(Markdown(\"#### Transformed training dataset\"))\n",
        "print(\"Difference in mean outcomes between unprivileged and privileged groups = %f\" % metric_transf_train.mean_difference())"
      ],
      "execution_count": 43,
      "outputs": [
        {
          "output_type": "display_data",
          "data": {
            "text/markdown": "#### Transformed training dataset",
            "text/plain": [
              "<IPython.core.display.Markdown object>"
            ]
          },
          "metadata": {
            "tags": []
          }
        },
        {
          "output_type": "stream",
          "text": [
            "Difference in mean outcomes between unprivileged and privileged groups = 0.000000\n"
          ],
          "name": "stdout"
        }
      ]
    },
    {
      "cell_type": "markdown",
      "metadata": {
        "id": "7jHADZabjyar",
        "colab_type": "text"
      },
      "source": [
        "## Test dataset"
      ]
    },
    {
      "cell_type": "code",
      "metadata": {
        "id": "GxcDMgclj7ZG",
        "colab_type": "code",
        "colab": {
          "base_uri": "https://localhost:8080/",
          "height": 74
        },
        "outputId": "ff28005d-6486-4b1e-c71f-38ab3e2c8900"
      },
      "source": [
        "## Step 3 Computing fairness metric on original training dataset\n",
        "metric_orig_test = BinaryLabelDatasetMetric(dataset_orig_test,unprivileged_groups=unprivileged_groups,privileged_groups=privileged_groups)\n",
        "display(Markdown(\"#### Original training dataset\"))\n",
        "print(\"Difference in mean outcomes between unprivileged and privileged groups = %f\" % metric_orig_test.mean_difference())"
      ],
      "execution_count": 44,
      "outputs": [
        {
          "output_type": "display_data",
          "data": {
            "text/markdown": "#### Original training dataset",
            "text/plain": [
              "<IPython.core.display.Markdown object>"
            ]
          },
          "metadata": {
            "tags": []
          }
        },
        {
          "output_type": "stream",
          "text": [
            "Difference in mean outcomes between unprivileged and privileged groups = -0.006313\n"
          ],
          "name": "stdout"
        }
      ]
    },
    {
      "cell_type": "code",
      "metadata": {
        "id": "P4RTS4Nmkv75",
        "colab_type": "code",
        "colab": {}
      },
      "source": [
        "RW = Reweighing(unprivileged_groups=unprivileged_groups,privileged_groups=privileged_groups)\n",
        "dataset_transf_test = RW.fit_transform(dataset_orig_test)"
      ],
      "execution_count": 0,
      "outputs": []
    },
    {
      "cell_type": "code",
      "metadata": {
        "id": "gbGPChqLkzq-",
        "colab_type": "code",
        "colab": {
          "base_uri": "https://localhost:8080/",
          "height": 74
        },
        "outputId": "86258edb-cfdb-475d-8f0a-f76d6ee7d24f"
      },
      "source": [
        "## Step 5 Computing fairness metric on transformed dataset\n",
        "metric_transf_test = BinaryLabelDatasetMetric(dataset_transf_test,unprivileged_groups=unprivileged_groups,privileged_groups=privileged_groups)\n",
        "display(Markdown(\"#### Transformed training dataset\"))\n",
        "print(\"Difference in mean outcomes between unprivileged and privileged groups = %f\" % metric_transf_test.mean_difference())"
      ],
      "execution_count": 46,
      "outputs": [
        {
          "output_type": "display_data",
          "data": {
            "text/markdown": "#### Transformed training dataset",
            "text/plain": [
              "<IPython.core.display.Markdown object>"
            ]
          },
          "metadata": {
            "tags": []
          }
        },
        {
          "output_type": "stream",
          "text": [
            "Difference in mean outcomes between unprivileged and privileged groups = -0.000000\n"
          ],
          "name": "stdout"
        }
      ]
    },
    {
      "cell_type": "markdown",
      "metadata": {
        "id": "owJ5JpdC2-b8",
        "colab_type": "text"
      },
      "source": [
        "# Question 3 Using Optimized preprocessing algorithm"
      ]
    },
    {
      "cell_type": "code",
      "metadata": {
        "id": "GUmpY4Q0ArKM",
        "colab_type": "code",
        "colab": {}
      },
      "source": [
        "# Loading dataset and splitting train and test dataset\n",
        "dxx = load_preproc_data_german(['age'])\n",
        "dxx_train, dxx_test = dxx.split([0.7], shuffle=True)\n",
        "privileged_groups = [{'age': 1}]\n",
        "unprivileged_groups = [{'age': 0}]"
      ],
      "execution_count": 0,
      "outputs": []
    },
    {
      "cell_type": "markdown",
      "metadata": {
        "id": "e7__MnNKzoIa",
        "colab_type": "text"
      },
      "source": [
        "### Train dataset"
      ]
    },
    {
      "cell_type": "code",
      "metadata": {
        "id": "NiQgkZAoqSY1",
        "colab_type": "code",
        "outputId": "78407215-a69f-4c97-b512-d634ff12576e",
        "colab": {
          "base_uri": "https://localhost:8080/",
          "height": 74
        }
      },
      "source": [
        "# Computing fairness metric on original training dataset\n",
        "metric_orig_train = BinaryLabelDatasetMetric(dxx_train, \n",
        "                                             unprivileged_groups=unprivileged_groups,\n",
        "                                             privileged_groups=privileged_groups)\n",
        "display(Markdown(\"#### Original training dataset\"))\n",
        "print(\"Difference in mean outcomes between unprivileged and privileged groups = %f\" % metric_orig_train.mean_difference())"
      ],
      "execution_count": 48,
      "outputs": [
        {
          "output_type": "display_data",
          "data": {
            "text/markdown": "#### Original training dataset",
            "text/plain": [
              "<IPython.core.display.Markdown object>"
            ]
          },
          "metadata": {
            "tags": []
          }
        },
        {
          "output_type": "stream",
          "text": [
            "Difference in mean outcomes between unprivileged and privileged groups = -0.116725\n"
          ],
          "name": "stdout"
        }
      ]
    },
    {
      "cell_type": "code",
      "metadata": {
        "id": "MMgymmp5TTR5",
        "colab_type": "code",
        "colab": {}
      },
      "source": [
        "# This section demonstrates the use of Optimized pre-processing algorithm for bias mitigation\n",
        "optim_options = {\n",
        "            \"distortion_fun\": get_distortion_german,\n",
        "            \"epsilon\": 0.05,\n",
        "            \"clist\": [0.99, 1.99, 2.99],\n",
        "            \"dlist\": [.1, 0.05, 0]\n",
        "        }"
      ],
      "execution_count": 0,
      "outputs": []
    },
    {
      "cell_type": "code",
      "metadata": {
        "id": "qkdyVbVPXFYz",
        "colab_type": "code",
        "outputId": "7a429a80-abb0-405b-eb46-702d37bcd70c",
        "colab": {
          "base_uri": "https://localhost:8080/",
          "height": 70
        }
      },
      "source": [
        "OP = OptimPreproc(OptTools, optim_options,unprivileged_groups = unprivileged_groups,privileged_groups = privileged_groups)"
      ],
      "execution_count": 50,
      "outputs": [
        {
          "output_type": "stream",
          "text": [
            "/usr/local/lib/python3.6/dist-packages/aif360/algorithms/preprocessing/optim_preproc.py:68: UserWarning: Privileged and unprivileged groups specified will not be used. The protected attributes are directly specified in the data preprocessing function. The current implementation automatically adjusts for discrimination across all groups. This can be changed by changing the optimization code.\n",
            "  warn(\"Privileged and unprivileged groups specified will not be \"\n"
          ],
          "name": "stderr"
        }
      ]
    },
    {
      "cell_type": "code",
      "metadata": {
        "id": "50m2HyTWZE_T",
        "colab_type": "code",
        "outputId": "beb81656-571d-4072-e8de-9eb361630612",
        "colab": {
          "base_uri": "https://localhost:8080/",
          "height": 34
        }
      },
      "source": [
        "OP = OP.fit(dxx_train)"
      ],
      "execution_count": 51,
      "outputs": [
        {
          "output_type": "stream",
          "text": [
            "Optimized Preprocessing: Objective converged to 0.000000\n"
          ],
          "name": "stdout"
        }
      ]
    },
    {
      "cell_type": "code",
      "metadata": {
        "id": "LSR-0YzRWjFq",
        "colab_type": "code",
        "colab": {}
      },
      "source": [
        "dataset_transf_train1 = OP.transform(dxx_train, transform_Y = True)\n",
        "dataset_transf_train1 = dxx_train.align_datasets(dataset_transf_train1)"
      ],
      "execution_count": 0,
      "outputs": []
    },
    {
      "cell_type": "code",
      "metadata": {
        "id": "wEezB9gKevJ8",
        "colab_type": "code",
        "outputId": "913239f6-7f08-408b-a41b-3ccb116519ec",
        "colab": {
          "base_uri": "https://localhost:8080/",
          "height": 90
        }
      },
      "source": [
        "# Computing fairnes metric on transformed dataset\n",
        "metric_transf_train = BinaryLabelDatasetMetric(dataset_transf_train1, \n",
        "                                         unprivileged_groups=unprivileged_groups,\n",
        "                                         privileged_groups=privileged_groups)\n",
        "display(Markdown(\"#### Transformed training dataset\"))\n",
        "print(\"Difference in mean outcomes between unprivileged and privileged groups = %f\" % metric_transf_train.mean_difference())\n",
        "print(\"Optimized preprocessing has reduced the disparity in favorable outcomes between the privileged and unprivileged groups (training data)\")\n",
        "\n",
        "assert np.abs(metric_transf_train.mean_difference()) < np.abs(metric_orig_train.mean_difference())"
      ],
      "execution_count": 53,
      "outputs": [
        {
          "output_type": "display_data",
          "data": {
            "text/markdown": "#### Transformed training dataset",
            "text/plain": [
              "<IPython.core.display.Markdown object>"
            ]
          },
          "metadata": {
            "tags": []
          }
        },
        {
          "output_type": "stream",
          "text": [
            "Difference in mean outcomes between unprivileged and privileged groups = -0.035811\n",
            "Optimized preprocessing has reduced the disparity in favorable outcomes between the privileged and unprivileged groups (training data)\n"
          ],
          "name": "stdout"
        }
      ]
    },
    {
      "cell_type": "markdown",
      "metadata": {
        "id": "mQKplVbKzxVu",
        "colab_type": "text"
      },
      "source": [
        "### Test dataset"
      ]
    },
    {
      "cell_type": "code",
      "metadata": {
        "id": "phfBcHdcz2wq",
        "colab_type": "code",
        "outputId": "f5b33bd3-dc0d-4860-86a7-51e24cbc8079",
        "colab": {
          "base_uri": "https://localhost:8080/",
          "height": 74
        }
      },
      "source": [
        "# Computing fairness metric on original training dataset\n",
        "metric_orig_test = BinaryLabelDatasetMetric(dxx_test, \n",
        "                                             unprivileged_groups=unprivileged_groups,\n",
        "                                             privileged_groups=privileged_groups)\n",
        "display(Markdown(\"#### Original test dataset\"))\n",
        "print(\"Difference in mean outcomes between unprivileged and privileged groups = %f\" % metric_orig_test.mean_difference())"
      ],
      "execution_count": 27,
      "outputs": [
        {
          "output_type": "display_data",
          "data": {
            "text/markdown": "#### Original test dataset",
            "text/plain": [
              "<IPython.core.display.Markdown object>"
            ]
          },
          "metadata": {
            "tags": []
          }
        },
        {
          "output_type": "stream",
          "text": [
            "Difference in mean outcomes between unprivileged and privileged groups = -0.199417\n"
          ],
          "name": "stdout"
        }
      ]
    },
    {
      "cell_type": "code",
      "metadata": {
        "id": "MliJpcYr0byP",
        "colab_type": "code",
        "outputId": "f442ffbe-d075-4cca-9437-d16b26ff8361",
        "colab": {
          "base_uri": "https://localhost:8080/",
          "height": 87
        }
      },
      "source": [
        "OP = OptimPreproc(OptTools, optim_options,unprivileged_groups = unprivileged_groups,privileged_groups = privileged_groups)\n",
        "OP = OP.fit(dxx_test)\n",
        "dataset_transf_test1 = OP.transform(dxx_test, transform_Y = True)\n",
        "dataset_transf_test1 = dxx_test.align_datasets(dataset_transf_test1)            "
      ],
      "execution_count": 36,
      "outputs": [
        {
          "output_type": "stream",
          "text": [
            "/usr/local/lib/python3.6/dist-packages/aif360/algorithms/preprocessing/optim_preproc.py:68: UserWarning: Privileged and unprivileged groups specified will not be used. The protected attributes are directly specified in the data preprocessing function. The current implementation automatically adjusts for discrimination across all groups. This can be changed by changing the optimization code.\n",
            "  warn(\"Privileged and unprivileged groups specified will not be \"\n"
          ],
          "name": "stderr"
        },
        {
          "output_type": "stream",
          "text": [
            "Optimized Preprocessing: Objective converged to 0.004215\n"
          ],
          "name": "stdout"
        }
      ]
    },
    {
      "cell_type": "code",
      "metadata": {
        "id": "Hp725yZa1rqX",
        "colab_type": "code",
        "outputId": "0b3d6b12-d4fb-4268-8261-b413d5b86aba",
        "colab": {
          "base_uri": "https://localhost:8080/",
          "height": 90
        }
      },
      "source": [
        "# Computing fairnes metric on transformed dataset\n",
        "metric_transf_test = BinaryLabelDatasetMetric(dataset_transf_test, \n",
        "                                         unprivileged_groups=unprivileged_groups,\n",
        "                                         privileged_groups=privileged_groups)\n",
        "display(Markdown(\"#### Transformed test dataset\"))\n",
        "print(\"Difference in mean outcomes between unprivileged and privileged groups = %f\" % metric_transf_test.mean_difference())\n",
        "print(\"Optimized preprocessing has reduced the disparity in favorable outcomes between the privileged and unprivileged groups (training data)\")\n",
        "\n",
        "assert np.abs(metric_transf_test.mean_difference()) < np.abs(metric_orig_test.mean_difference())"
      ],
      "execution_count": 28,
      "outputs": [
        {
          "output_type": "display_data",
          "data": {
            "text/markdown": "#### Transformed test dataset",
            "text/plain": [
              "<IPython.core.display.Markdown object>"
            ]
          },
          "metadata": {
            "tags": []
          }
        },
        {
          "output_type": "stream",
          "text": [
            "Difference in mean outcomes between unprivileged and privileged groups = -0.035811\n",
            "Optimized preprocessing has reduced the disparity in favorable outcomes between the privileged and unprivileged groups (training data)\n"
          ],
          "name": "stdout"
        }
      ]
    },
    {
      "cell_type": "markdown",
      "metadata": {
        "id": "BgwoykVCPDkL",
        "colab_type": "text"
      },
      "source": [
        "# Question 4 Comparing the Reweighting and Optimized Preprocessing Algorithms"
      ]
    },
    {
      "cell_type": "markdown",
      "metadata": {
        "id": "yiErkXhMPqKp",
        "colab_type": "text"
      },
      "source": [
        "At the Question 2 and 3 we used the metric \"mean difference\" from our original dataset to determine the fairness in the training dataset<br>\n",
        "This difference in mean outcomes between unprivileged and privileged groups is -0.169905. It means that the train dataset is biased with some benefit for unprivileged group. On the same way in test dataset XXXXXXXXXXXXXXXXXXXXXXXX<br>\n",
        "Additionality, after we applied the mitigation algorithm Reweighting and Optimized Preprocessing in train dataset, we found that both reach to mitigate correctly, this dataset transformed has bias 0.\n"
      ]
    },
    {
      "cell_type": "markdown",
      "metadata": {
        "id": "hJdTZtQ2spYC",
        "colab_type": "text"
      },
      "source": [
        "# Extra"
      ]
    },
    {
      "cell_type": "markdown",
      "metadata": {
        "id": "jHLll3BtDQfB",
        "colab_type": "text"
      },
      "source": [
        "## Training unbiased models using Logistic Regression\n"
      ]
    },
    {
      "cell_type": "code",
      "metadata": {
        "colab_type": "code",
        "outputId": "58eae980-8542-440b-ff4c-b0fd8b5c5452",
        "id": "rSyMpId5DgCp",
        "colab": {
          "base_uri": "https://localhost:8080/",
          "height": 50
        }
      },
      "source": [
        "def training(dataset_transf_train,dataset_transf_test,type_mitigation):\n",
        "  scale_orig = StandardScaler()\n",
        "  X_train = scale_orig.fit_transform(dataset_transf_train.features)\n",
        "  X_test = scale_orig.fit_transform(dataset_transf_test.features)\n",
        "  y_train = dataset_transf_train.labels.ravel()\n",
        "  y_test = dataset_transf_test.labels.ravel()\n",
        "  lr = LogisticRegression(C=100,random_state=1,solver='lbfgs')\n",
        "  lr.fit(X_train,y_train)\n",
        "  y_pred=lr.predict(X_test)\n",
        "  print('Test Accuracy: %.3f' % accuracy_score(y_test,y_pred), type_mitigation)\n",
        "  \n",
        "training(dataset_transf_train,dataset_transf_test,\"Reweighing Algorithm\")\n",
        "training(dataset_transf_train1,dataset_transf_test1,\"Optimized preprocessing Algorithm\")\n"
      ],
      "execution_count": 56,
      "outputs": [
        {
          "output_type": "stream",
          "text": [
            "Test Accuracy: 0.753 Reweighing Algorithm\n",
            "Test Accuracy: 0.736 Optimized preprocessing Algorithm\n"
          ],
          "name": "stdout"
        }
      ]
    },
    {
      "cell_type": "markdown",
      "metadata": {
        "id": "04R7VcAbqxvt",
        "colab_type": "text"
      },
      "source": [
        "## Analyzing train dataset without AIF360 package - Disparate Impact"
      ]
    },
    {
      "cell_type": "code",
      "metadata": {
        "id": "ouDP2j70n2fm",
        "colab_type": "code",
        "outputId": "8c52710a-5c5e-4769-97bd-21a4017a4b19",
        "colab": {
          "base_uri": "https://localhost:8080/",
          "height": 101
        }
      },
      "source": [
        "def to_dataframes(aif360_ds):\n",
        "  X = pd.DataFrame(aif360_ds.features, columns=aif360_ds.feature_names)\n",
        "  y = pd.DataFrame(aif360_ds.labels.ravel(), columns=aif360_ds.label_names)\n",
        "  Xy = pd.concat([X,y],axis=1)\n",
        "  return Xy\n",
        "\n",
        "train_XY = to_dataframes(dataset_orig_train)\n",
        "\n",
        "privil = len(train_XY.loc[train_XY['age']==1])\n",
        "unprivil = len(train_XY.loc[train_XY['age']==0])\n",
        "\n",
        "privil_fav = len(train_XY.loc[(train_XY['age']==1) & (train_XY['credit']==1)])\n",
        "unprivil_fav = len(train_XY.loc[(train_XY['age']==0) & (train_XY['credit']==1)])\n",
        "\n",
        "privil_nofav = len(train_XY.loc[(train_XY['age']==1) & (train_XY['credit']==2)])\n",
        "unprivil_nofav = len(train_XY.loc[(train_XY['age']==0) & (train_XY['credit']==2)])\n",
        "\n",
        "ratio_unpriv_fav = unprivil_fav / unprivil\n",
        "ratio_priv_fav = privil_fav / privil\n",
        "\n",
        "ratio_disparate_impact=(ratio_unpriv_fav/ratio_priv_fav)*100\n",
        "\n",
        "print(\"privileged: {'age': 1}\",privil,\" unprivileged: {'age': 0}\",unprivil)\n",
        "print(\"privileged_favorable:\",privil_fav,\" unprivileged_favorable:\",unprivil_fav)\n",
        "print(\"Ratio Unprivileged Favorable:\",ratio_unpriv_fav)\n",
        "print(\"Ratio Privileged Favorable:\",ratio_priv_fav)\n",
        "print(\"Disparate Impact:\",ratio_disparate_impact)\n"
      ],
      "execution_count": 57,
      "outputs": [
        {
          "output_type": "stream",
          "text": [
            "privileged: {'age': 1} 587  unprivileged: {'age': 0} 113\n",
            "privileged_favorable: 427  unprivileged_favorable: 63\n",
            "Ratio Unprivileged Favorable: 0.5575221238938053\n",
            "Ratio Privileged Favorable: 0.727427597955707\n",
            "Disparate Impact: 76.64297113013201\n"
          ],
          "name": "stdout"
        }
      ]
    },
    {
      "cell_type": "markdown",
      "metadata": {
        "id": "6eANEt3esqzr",
        "colab_type": "text"
      },
      "source": [
        "## Data Visualization"
      ]
    },
    {
      "cell_type": "markdown",
      "metadata": {
        "id": "viud0bA_XH7v",
        "colab_type": "text"
      },
      "source": [
        "### Understanding dataset biased"
      ]
    },
    {
      "cell_type": "code",
      "metadata": {
        "id": "Vq2ocSQaHaF4",
        "colab_type": "code",
        "colab": {
          "base_uri": "https://localhost:8080/",
          "height": 298
        },
        "outputId": "3e1da5bd-03c5-412d-dadb-a5f0d737b628"
      },
      "source": [
        "\n",
        "names = ['Privileged', 'Unprivileged']\n",
        "values = [privil, unprivil]\n",
        "plt.figure(figsize=(20, 4))\n",
        "fig, ax =plt.subplots()\n",
        "plt.bar(names, values)\n",
        "plt.title('Number of loans by protected attributes')\n",
        "ax.set_ylabel('# of loans')\n",
        "for index, value in enumerate(values):\n",
        "    plt.text(index, value, str(value))\n",
        "plt.show()"
      ],
      "execution_count": 60,
      "outputs": [
        {
          "output_type": "display_data",
          "data": {
            "text/plain": [
              "<Figure size 1440x288 with 0 Axes>"
            ]
          },
          "metadata": {
            "tags": []
          }
        },
        {
          "output_type": "display_data",
          "data": {
            "image/png": "[encoded data removed]",
            "text/plain": [
              "<Figure size 432x288 with 1 Axes>"
            ]
          },
          "metadata": {
            "tags": [],
            "needs_background": "light"
          }
        }
      ]
    },
    {
      "cell_type": "code",
      "metadata": {
        "id": "x66MsngrmprN",
        "colab_type": "code",
        "colab": {
          "base_uri": "https://localhost:8080/",
          "height": 297
        },
        "outputId": "e95af013-c6d4-4085-c6ad-ccf64ed998a3"
      },
      "source": [
        "names = ['Privileged', 'Unprivileged']\n",
        "favorables = [privil_fav, unprivil_fav]\n",
        "nofavorables = [privil_nofav,unprivil_nofav]\n",
        "\n",
        "x = np.arange(len(names))  # the label locations\n",
        "width = 0.35  # the width of the bars\n",
        "\n",
        "fig, ax = plt.subplots()\n",
        "rects1 = ax.bar(x - width/2, favorables, width, label='Favorables')\n",
        "rects2 = ax.bar(x + width/2, nofavorables, width, label='No Favorables')\n",
        "\n",
        "# Add some text for labels, title and custom x-axis tick labels, etc.\n",
        "ax.set_ylabel('# of loans')\n",
        "ax.set_title('Number of loans by protected attribute age and outcomes')\n",
        "ax.set_xticks(x)\n",
        "ax.set_xticklabels(names)\n",
        "ax.legend()\n",
        "\n",
        "\n",
        "def autolabel(rects):\n",
        "    \"\"\"Attach a text label above each bar in *rects*, displaying its height.\"\"\"\n",
        "    for rect in rects:\n",
        "        height = rect.get_height()\n",
        "        ax.annotate('{}'.format(height),\n",
        "                    xy=(rect.get_x() + rect.get_width() / 2, height),\n",
        "                    xytext=(0, 3),  # 3 points vertical offset\n",
        "                    textcoords=\"offset points\",\n",
        "                    ha='center', va='bottom')\n",
        "\n",
        "\n",
        "autolabel(rects1)\n",
        "autolabel(rects2)\n",
        "\n",
        "fig.tight_layout()\n",
        "\n",
        "plt.show()\n"
      ],
      "execution_count": 59,
      "outputs": [
        {
          "output_type": "display_data",
          "data": {
            "image/png": "[encoded data removed]",
            "text/plain": [
              "<Figure size 432x288 with 1 Axes>"
            ]
          },
          "metadata": {
            "tags": [],
            "needs_background": "light"
          }
        }
      ]
    }
  ]
}